{
 "cells": [
  {
   "cell_type": "code",
   "execution_count": 8,
   "id": "23bc2a49-1313-4bb1-ab5e-042206fa4573",
   "metadata": {},
   "outputs": [],
   "source": [
    "import pandas as pd"
   ]
  },
  {
   "cell_type": "code",
   "execution_count": 9,
   "id": "98d16ea1-732d-4ad3-a575-960db11b3718",
   "metadata": {},
   "outputs": [],
   "source": [
    "movies = pd.read_csv('../datasets/movies.csv')\n",
    "links = pd.read_csv('../datasets/links.csv')\n",
    "ratings = pd.read_csv('../datasets/ratings.csv')\n",
    "\n",
    "bechdel = pd.read_csv('../datasets/bechdel.csv')"
   ]
  },
  {
   "cell_type": "code",
   "execution_count": 10,
   "id": "823b7f35-9c3a-4cb7-acf1-457df006a71c",
   "metadata": {},
   "outputs": [
    {
     "data": {
      "text/plain": [
       "(9742, 3)"
      ]
     },
     "execution_count": 10,
     "metadata": {},
     "output_type": "execute_result"
    }
   ],
   "source": [
    "movies.shape"
   ]
  },
  {
   "cell_type": "code",
   "execution_count": 11,
   "id": "0126764a-92dd-4a32-83c8-1be6e284d31b",
   "metadata": {},
   "outputs": [
    {
     "data": {
      "text/plain": [
       "(9742, 3)"
      ]
     },
     "execution_count": 11,
     "metadata": {},
     "output_type": "execute_result"
    }
   ],
   "source": [
    "links.shape"
   ]
  },
  {
   "cell_type": "code",
   "execution_count": 12,
   "id": "76fb623b-a1b3-4810-9371-b72e3100a331",
   "metadata": {},
   "outputs": [
    {
     "data": {
      "text/plain": [
       "(100836, 4)"
      ]
     },
     "execution_count": 12,
     "metadata": {},
     "output_type": "execute_result"
    }
   ],
   "source": [
    "ratings.shape"
   ]
  },
  {
   "cell_type": "code",
   "execution_count": 13,
   "id": "0b642635-5096-4870-ad2d-ab4161903a27",
   "metadata": {},
   "outputs": [
    {
     "data": {
      "text/plain": [
       "610"
      ]
     },
     "execution_count": 13,
     "metadata": {},
     "output_type": "execute_result"
    }
   ],
   "source": [
    "ratings['userId'].nunique()"
   ]
  },
  {
   "cell_type": "code",
   "execution_count": 14,
   "id": "0f254057-aa29-4fbd-833e-354219ea4b58",
   "metadata": {},
   "outputs": [
    {
     "data": {
      "text/plain": [
       "(9417, 10)"
      ]
     },
     "execution_count": 14,
     "metadata": {},
     "output_type": "execute_result"
    }
   ],
   "source": [
    "bechdel.shape"
   ]
  },
  {
   "cell_type": "markdown",
   "id": "a0acf6a1-ea39-4b24-b66d-76078e2a9b5c",
   "metadata": {},
   "source": [
    "#### Merge Movielens: movies + links on 'movieId'"
   ]
  },
  {
   "cell_type": "code",
   "execution_count": 15,
   "id": "55d7072c-ef45-4049-946d-33261305c0ba",
   "metadata": {},
   "outputs": [],
   "source": [
    "movielens = pd.merge(movies, links, left_on='movieId', right_on='movieId')"
   ]
  },
  {
   "cell_type": "markdown",
   "id": "38e81584-8db8-430a-82ea-6bf62a737354",
   "metadata": {},
   "source": [
    "#### + ratings"
   ]
  },
  {
   "cell_type": "code",
   "execution_count": 16,
   "id": "986a0114-0bb9-4cbc-b90c-042dee4ca16b",
   "metadata": {
    "tags": []
   },
   "outputs": [],
   "source": [
    "movielens = pd.merge(movielens, ratings, left_on='movieId', right_on='movieId')"
   ]
  },
  {
   "cell_type": "code",
   "execution_count": 17,
   "id": "2af239b1-6627-495c-ba08-b5b72e343c1a",
   "metadata": {},
   "outputs": [
    {
     "data": {
      "text/html": [
       "<div>\n",
       "<style scoped>\n",
       "    .dataframe tbody tr th:only-of-type {\n",
       "        vertical-align: middle;\n",
       "    }\n",
       "\n",
       "    .dataframe tbody tr th {\n",
       "        vertical-align: top;\n",
       "    }\n",
       "\n",
       "    .dataframe thead th {\n",
       "        text-align: right;\n",
       "    }\n",
       "</style>\n",
       "<table border=\"1\" class=\"dataframe\">\n",
       "  <thead>\n",
       "    <tr style=\"text-align: right;\">\n",
       "      <th></th>\n",
       "      <th>movieId</th>\n",
       "      <th>title</th>\n",
       "      <th>genres</th>\n",
       "      <th>imdbId</th>\n",
       "      <th>tmdbId</th>\n",
       "      <th>userId</th>\n",
       "      <th>rating</th>\n",
       "      <th>timestamp</th>\n",
       "    </tr>\n",
       "  </thead>\n",
       "  <tbody>\n",
       "    <tr>\n",
       "      <th>0</th>\n",
       "      <td>1</td>\n",
       "      <td>Toy Story (1995)</td>\n",
       "      <td>Adventure|Animation|Children|Comedy|Fantasy</td>\n",
       "      <td>114709</td>\n",
       "      <td>862.0</td>\n",
       "      <td>1</td>\n",
       "      <td>4.0</td>\n",
       "      <td>964982703</td>\n",
       "    </tr>\n",
       "  </tbody>\n",
       "</table>\n",
       "</div>"
      ],
      "text/plain": [
       "   movieId             title                                       genres  \\\n",
       "0        1  Toy Story (1995)  Adventure|Animation|Children|Comedy|Fantasy   \n",
       "\n",
       "   imdbId  tmdbId  userId  rating  timestamp  \n",
       "0  114709   862.0       1     4.0  964982703  "
      ]
     },
     "execution_count": 17,
     "metadata": {},
     "output_type": "execute_result"
    }
   ],
   "source": [
    "movielens.head(1)"
   ]
  },
  {
   "cell_type": "markdown",
   "id": "16a51aed-fa95-4235-bc21-43d1d2fe4f9c",
   "metadata": {},
   "source": [
    "#### Drop redundant or unnecessary: \n",
    "'movieId', 'tmdbId', 'timestamp'"
   ]
  },
  {
   "cell_type": "code",
   "execution_count": 18,
   "id": "abad3c6e-d8ba-4f55-bb17-9e446e943bca",
   "metadata": {},
   "outputs": [
    {
     "data": {
      "text/html": [
       "<div>\n",
       "<style scoped>\n",
       "    .dataframe tbody tr th:only-of-type {\n",
       "        vertical-align: middle;\n",
       "    }\n",
       "\n",
       "    .dataframe tbody tr th {\n",
       "        vertical-align: top;\n",
       "    }\n",
       "\n",
       "    .dataframe thead th {\n",
       "        text-align: right;\n",
       "    }\n",
       "</style>\n",
       "<table border=\"1\" class=\"dataframe\">\n",
       "  <thead>\n",
       "    <tr style=\"text-align: right;\">\n",
       "      <th></th>\n",
       "      <th>title</th>\n",
       "      <th>genres</th>\n",
       "      <th>imdbId</th>\n",
       "      <th>userId</th>\n",
       "      <th>rating</th>\n",
       "    </tr>\n",
       "  </thead>\n",
       "  <tbody>\n",
       "    <tr>\n",
       "      <th>0</th>\n",
       "      <td>Toy Story (1995)</td>\n",
       "      <td>Adventure|Animation|Children|Comedy|Fantasy</td>\n",
       "      <td>114709</td>\n",
       "      <td>1</td>\n",
       "      <td>4.0</td>\n",
       "    </tr>\n",
       "  </tbody>\n",
       "</table>\n",
       "</div>"
      ],
      "text/plain": [
       "              title                                       genres  imdbId  \\\n",
       "0  Toy Story (1995)  Adventure|Animation|Children|Comedy|Fantasy  114709   \n",
       "\n",
       "   userId  rating  \n",
       "0       1     4.0  "
      ]
     },
     "execution_count": 18,
     "metadata": {},
     "output_type": "execute_result"
    }
   ],
   "source": [
    "movielens.drop(columns=['movieId', 'tmdbId', 'timestamp'], inplace=True)\n",
    "movielens.head(1)"
   ]
  },
  {
   "cell_type": "code",
   "execution_count": 19,
   "id": "badf62b1-3f94-46ce-abe9-0ced84effbef",
   "metadata": {},
   "outputs": [],
   "source": [
    "movielens.to_csv('../datasets/final.csv', index=False)"
   ]
  },
  {
   "cell_type": "markdown",
   "id": "adb749ba-e8ba-4df8-91c3-9b37de39603b",
   "metadata": {},
   "source": [
    "#### Rename Bechdel rating "
   ]
  },
  {
   "cell_type": "code",
   "execution_count": 20,
   "id": "593db7b8-2e85-4096-a5ba-c1b3ff184fe2",
   "metadata": {},
   "outputs": [
    {
     "data": {
      "text/html": [
       "<div>\n",
       "<style scoped>\n",
       "    .dataframe tbody tr th:only-of-type {\n",
       "        vertical-align: middle;\n",
       "    }\n",
       "\n",
       "    .dataframe tbody tr th {\n",
       "        vertical-align: top;\n",
       "    }\n",
       "\n",
       "    .dataframe thead th {\n",
       "        text-align: right;\n",
       "    }\n",
       "</style>\n",
       "<table border=\"1\" class=\"dataframe\">\n",
       "  <thead>\n",
       "    <tr style=\"text-align: right;\">\n",
       "      <th></th>\n",
       "      <th>Unnamed: 0</th>\n",
       "      <th>visible</th>\n",
       "      <th>date</th>\n",
       "      <th>title</th>\n",
       "      <th>rating</th>\n",
       "      <th>year</th>\n",
       "      <th>imdbid</th>\n",
       "      <th>submitterid</th>\n",
       "      <th>dubious</th>\n",
       "      <th>id</th>\n",
       "    </tr>\n",
       "  </thead>\n",
       "  <tbody>\n",
       "    <tr>\n",
       "      <th>0</th>\n",
       "      <td>0</td>\n",
       "      <td>1</td>\n",
       "      <td>2022-01-13 14:47:49</td>\n",
       "      <td>355, The</td>\n",
       "      <td>3</td>\n",
       "      <td>2022</td>\n",
       "      <td>8356942.0</td>\n",
       "      <td>19837</td>\n",
       "      <td>0.0</td>\n",
       "      <td>10195</td>\n",
       "    </tr>\n",
       "  </tbody>\n",
       "</table>\n",
       "</div>"
      ],
      "text/plain": [
       "   Unnamed: 0  visible                 date     title  rating  year  \\\n",
       "0           0        1  2022-01-13 14:47:49  355, The       3  2022   \n",
       "\n",
       "      imdbid  submitterid  dubious     id  \n",
       "0  8356942.0        19837      0.0  10195  "
      ]
     },
     "execution_count": 20,
     "metadata": {},
     "output_type": "execute_result"
    }
   ],
   "source": [
    "bechdel.head(1)"
   ]
  },
  {
   "cell_type": "code",
   "execution_count": 21,
   "id": "bb74e79e-9fd7-46e0-842d-a080323ef3fc",
   "metadata": {},
   "outputs": [
    {
     "data": {
      "text/html": [
       "<div>\n",
       "<style scoped>\n",
       "    .dataframe tbody tr th:only-of-type {\n",
       "        vertical-align: middle;\n",
       "    }\n",
       "\n",
       "    .dataframe tbody tr th {\n",
       "        vertical-align: top;\n",
       "    }\n",
       "\n",
       "    .dataframe thead th {\n",
       "        text-align: right;\n",
       "    }\n",
       "</style>\n",
       "<table border=\"1\" class=\"dataframe\">\n",
       "  <thead>\n",
       "    <tr style=\"text-align: right;\">\n",
       "      <th></th>\n",
       "      <th>Unnamed: 0</th>\n",
       "      <th>visible</th>\n",
       "      <th>date</th>\n",
       "      <th>title</th>\n",
       "      <th>bechdel_score</th>\n",
       "      <th>year</th>\n",
       "      <th>imdbid</th>\n",
       "      <th>submitterid</th>\n",
       "      <th>dubious</th>\n",
       "      <th>id</th>\n",
       "    </tr>\n",
       "  </thead>\n",
       "  <tbody>\n",
       "    <tr>\n",
       "      <th>0</th>\n",
       "      <td>0</td>\n",
       "      <td>1</td>\n",
       "      <td>2022-01-13 14:47:49</td>\n",
       "      <td>355, The</td>\n",
       "      <td>3</td>\n",
       "      <td>2022</td>\n",
       "      <td>8356942.0</td>\n",
       "      <td>19837</td>\n",
       "      <td>0.0</td>\n",
       "      <td>10195</td>\n",
       "    </tr>\n",
       "  </tbody>\n",
       "</table>\n",
       "</div>"
      ],
      "text/plain": [
       "   Unnamed: 0  visible                 date     title  bechdel_score  year  \\\n",
       "0           0        1  2022-01-13 14:47:49  355, The              3  2022   \n",
       "\n",
       "      imdbid  submitterid  dubious     id  \n",
       "0  8356942.0        19837      0.0  10195  "
      ]
     },
     "execution_count": 21,
     "metadata": {},
     "output_type": "execute_result"
    }
   ],
   "source": [
    "bechdel.rename(columns={'rating': 'bechdel_score'}, inplace=True)\n",
    "bechdel.head(1)"
   ]
  },
  {
   "cell_type": "markdown",
   "id": "f9b8727f-b1d8-442d-9fbc-606c2105715e",
   "metadata": {},
   "source": [
    "#### Merge Movielens and Bechdel on 'imdbId' and 'imdbid' respectively"
   ]
  },
  {
   "cell_type": "code",
   "execution_count": 22,
   "id": "983b7a11-b96a-44a7-80c1-5c68d3918dc5",
   "metadata": {},
   "outputs": [],
   "source": [
    "df = pd.merge(movielens, bechdel, left_on='imdbId', right_on='imdbid')"
   ]
  },
  {
   "cell_type": "code",
   "execution_count": 23,
   "id": "e6f27900-0a61-414d-92e7-8224305352b6",
   "metadata": {},
   "outputs": [
    {
     "data": {
      "text/html": [
       "<div>\n",
       "<style scoped>\n",
       "    .dataframe tbody tr th:only-of-type {\n",
       "        vertical-align: middle;\n",
       "    }\n",
       "\n",
       "    .dataframe tbody tr th {\n",
       "        vertical-align: top;\n",
       "    }\n",
       "\n",
       "    .dataframe thead th {\n",
       "        text-align: right;\n",
       "    }\n",
       "</style>\n",
       "<table border=\"1\" class=\"dataframe\">\n",
       "  <thead>\n",
       "    <tr style=\"text-align: right;\">\n",
       "      <th></th>\n",
       "      <th>title_x</th>\n",
       "      <th>genres</th>\n",
       "      <th>imdbId</th>\n",
       "      <th>userId</th>\n",
       "      <th>rating</th>\n",
       "      <th>Unnamed: 0</th>\n",
       "      <th>visible</th>\n",
       "      <th>date</th>\n",
       "      <th>title_y</th>\n",
       "      <th>bechdel_score</th>\n",
       "      <th>year</th>\n",
       "      <th>imdbid</th>\n",
       "      <th>submitterid</th>\n",
       "      <th>dubious</th>\n",
       "      <th>id</th>\n",
       "    </tr>\n",
       "  </thead>\n",
       "  <tbody>\n",
       "    <tr>\n",
       "      <th>0</th>\n",
       "      <td>Toy Story (1995)</td>\n",
       "      <td>Adventure|Animation|Children|Comedy|Fantasy</td>\n",
       "      <td>114709</td>\n",
       "      <td>1</td>\n",
       "      <td>4.0</td>\n",
       "      <td>6479</td>\n",
       "      <td>1</td>\n",
       "      <td>2008-07-28 15:55:31</td>\n",
       "      <td>Toy Story</td>\n",
       "      <td>1</td>\n",
       "      <td>1995</td>\n",
       "      <td>114709.0</td>\n",
       "      <td>1</td>\n",
       "      <td>NaN</td>\n",
       "      <td>87</td>\n",
       "    </tr>\n",
       "  </tbody>\n",
       "</table>\n",
       "</div>"
      ],
      "text/plain": [
       "            title_x                                       genres  imdbId  \\\n",
       "0  Toy Story (1995)  Adventure|Animation|Children|Comedy|Fantasy  114709   \n",
       "\n",
       "   userId  rating  Unnamed: 0  visible                 date    title_y  \\\n",
       "0       1     4.0        6479        1  2008-07-28 15:55:31  Toy Story   \n",
       "\n",
       "   bechdel_score  year    imdbid  submitterid  dubious  id  \n",
       "0              1  1995  114709.0            1      NaN  87  "
      ]
     },
     "execution_count": 23,
     "metadata": {},
     "output_type": "execute_result"
    }
   ],
   "source": [
    "df.head(1)"
   ]
  },
  {
   "cell_type": "markdown",
   "id": "44e33a9a-8c04-46ad-a28c-bc1ece5c0c92",
   "metadata": {},
   "source": [
    "#### Rename title_x"
   ]
  },
  {
   "cell_type": "code",
   "execution_count": 24,
   "id": "ba9a206f-6b8d-4fd0-aa61-986513ba0dcf",
   "metadata": {
    "tags": []
   },
   "outputs": [
    {
     "data": {
      "text/html": [
       "<div>\n",
       "<style scoped>\n",
       "    .dataframe tbody tr th:only-of-type {\n",
       "        vertical-align: middle;\n",
       "    }\n",
       "\n",
       "    .dataframe tbody tr th {\n",
       "        vertical-align: top;\n",
       "    }\n",
       "\n",
       "    .dataframe thead th {\n",
       "        text-align: right;\n",
       "    }\n",
       "</style>\n",
       "<table border=\"1\" class=\"dataframe\">\n",
       "  <thead>\n",
       "    <tr style=\"text-align: right;\">\n",
       "      <th></th>\n",
       "      <th>title</th>\n",
       "      <th>genres</th>\n",
       "      <th>imdbId</th>\n",
       "      <th>userId</th>\n",
       "      <th>rating</th>\n",
       "      <th>Unnamed: 0</th>\n",
       "      <th>visible</th>\n",
       "      <th>date</th>\n",
       "      <th>title_y</th>\n",
       "      <th>bechdel_score</th>\n",
       "      <th>year</th>\n",
       "      <th>imdbid</th>\n",
       "      <th>submitterid</th>\n",
       "      <th>dubious</th>\n",
       "      <th>id</th>\n",
       "    </tr>\n",
       "  </thead>\n",
       "  <tbody>\n",
       "    <tr>\n",
       "      <th>0</th>\n",
       "      <td>Toy Story (1995)</td>\n",
       "      <td>Adventure|Animation|Children|Comedy|Fantasy</td>\n",
       "      <td>114709</td>\n",
       "      <td>1</td>\n",
       "      <td>4.0</td>\n",
       "      <td>6479</td>\n",
       "      <td>1</td>\n",
       "      <td>2008-07-28 15:55:31</td>\n",
       "      <td>Toy Story</td>\n",
       "      <td>1</td>\n",
       "      <td>1995</td>\n",
       "      <td>114709.0</td>\n",
       "      <td>1</td>\n",
       "      <td>NaN</td>\n",
       "      <td>87</td>\n",
       "    </tr>\n",
       "  </tbody>\n",
       "</table>\n",
       "</div>"
      ],
      "text/plain": [
       "              title                                       genres  imdbId  \\\n",
       "0  Toy Story (1995)  Adventure|Animation|Children|Comedy|Fantasy  114709   \n",
       "\n",
       "   userId  rating  Unnamed: 0  visible                 date    title_y  \\\n",
       "0       1     4.0        6479        1  2008-07-28 15:55:31  Toy Story   \n",
       "\n",
       "   bechdel_score  year    imdbid  submitterid  dubious  id  \n",
       "0              1  1995  114709.0            1      NaN  87  "
      ]
     },
     "execution_count": 24,
     "metadata": {},
     "output_type": "execute_result"
    }
   ],
   "source": [
    "df.rename(columns={'title_x': 'title'}, inplace=True)\n",
    "df.head(1)"
   ]
  },
  {
   "cell_type": "markdown",
   "id": "7e6845b8-8267-4861-bb73-a7b10fba5f1a",
   "metadata": {},
   "source": [
    "#### Drop redundant or unnecessary: \n",
    "'Unnamed: 0', 'visible', 'date', 'title_y', 'year', 'imdbid', 'submitterid', 'id', 'dubious'"
   ]
  },
  {
   "cell_type": "code",
   "execution_count": 25,
   "id": "a3193273-d82f-48b0-a491-2ea8c28d747f",
   "metadata": {},
   "outputs": [
    {
     "data": {
      "text/html": [
       "<div>\n",
       "<style scoped>\n",
       "    .dataframe tbody tr th:only-of-type {\n",
       "        vertical-align: middle;\n",
       "    }\n",
       "\n",
       "    .dataframe tbody tr th {\n",
       "        vertical-align: top;\n",
       "    }\n",
       "\n",
       "    .dataframe thead th {\n",
       "        text-align: right;\n",
       "    }\n",
       "</style>\n",
       "<table border=\"1\" class=\"dataframe\">\n",
       "  <thead>\n",
       "    <tr style=\"text-align: right;\">\n",
       "      <th></th>\n",
       "      <th>title</th>\n",
       "      <th>genres</th>\n",
       "      <th>imdbId</th>\n",
       "      <th>userId</th>\n",
       "      <th>rating</th>\n",
       "      <th>bechdel_score</th>\n",
       "    </tr>\n",
       "  </thead>\n",
       "  <tbody>\n",
       "    <tr>\n",
       "      <th>0</th>\n",
       "      <td>Toy Story (1995)</td>\n",
       "      <td>Adventure|Animation|Children|Comedy|Fantasy</td>\n",
       "      <td>114709</td>\n",
       "      <td>1</td>\n",
       "      <td>4.0</td>\n",
       "      <td>1</td>\n",
       "    </tr>\n",
       "  </tbody>\n",
       "</table>\n",
       "</div>"
      ],
      "text/plain": [
       "              title                                       genres  imdbId  \\\n",
       "0  Toy Story (1995)  Adventure|Animation|Children|Comedy|Fantasy  114709   \n",
       "\n",
       "   userId  rating  bechdel_score  \n",
       "0       1     4.0              1  "
      ]
     },
     "execution_count": 25,
     "metadata": {},
     "output_type": "execute_result"
    }
   ],
   "source": [
    "df.drop(columns=['Unnamed: 0', 'visible', 'date', 'title_y', 'year', 'imdbid', 'submitterid', 'id', 'dubious'], inplace=True)\n",
    "df.head(1)"
   ]
  },
  {
   "cell_type": "markdown",
   "id": "f7d25f2d-b238-4b35-a792-2f5bde5e1d2a",
   "metadata": {},
   "source": [
    "#### check for Null"
   ]
  },
  {
   "cell_type": "code",
   "execution_count": 26,
   "id": "48042409-dbda-4460-8d6f-39c98e008599",
   "metadata": {},
   "outputs": [
    {
     "data": {
      "text/plain": [
       "title            0\n",
       "genres           0\n",
       "imdbId           0\n",
       "userId           0\n",
       "rating           0\n",
       "bechdel_score    0\n",
       "dtype: int64"
      ]
     },
     "execution_count": 26,
     "metadata": {},
     "output_type": "execute_result"
    }
   ],
   "source": [
    "df.isnull().sum()"
   ]
  },
  {
   "cell_type": "code",
   "execution_count": 27,
   "id": "a867a972-8e32-4b88-b0f2-53498cb65f1d",
   "metadata": {
    "tags": []
   },
   "outputs": [
    {
     "data": {
      "text/plain": [
       "(82859, 6)"
      ]
     },
     "execution_count": 27,
     "metadata": {},
     "output_type": "execute_result"
    }
   ],
   "source": [
    "df.shape"
   ]
  },
  {
   "cell_type": "markdown",
   "id": "8195aa47-03b8-4088-b7c7-8a6a8187f1ed",
   "metadata": {},
   "source": [
    "#### extract year from title as own column"
   ]
  },
  {
   "cell_type": "code",
   "execution_count": 28,
   "id": "3138a9a5-f4a6-4c92-af9c-7595a32b4061",
   "metadata": {},
   "outputs": [
    {
     "data": {
      "text/html": [
       "<div>\n",
       "<style scoped>\n",
       "    .dataframe tbody tr th:only-of-type {\n",
       "        vertical-align: middle;\n",
       "    }\n",
       "\n",
       "    .dataframe tbody tr th {\n",
       "        vertical-align: top;\n",
       "    }\n",
       "\n",
       "    .dataframe thead th {\n",
       "        text-align: right;\n",
       "    }\n",
       "</style>\n",
       "<table border=\"1\" class=\"dataframe\">\n",
       "  <thead>\n",
       "    <tr style=\"text-align: right;\">\n",
       "      <th></th>\n",
       "      <th>title</th>\n",
       "      <th>genres</th>\n",
       "      <th>imdbId</th>\n",
       "      <th>userId</th>\n",
       "      <th>rating</th>\n",
       "      <th>bechdel_score</th>\n",
       "      <th>year</th>\n",
       "    </tr>\n",
       "  </thead>\n",
       "  <tbody>\n",
       "    <tr>\n",
       "      <th>0</th>\n",
       "      <td>Toy Story (1995)</td>\n",
       "      <td>Adventure|Animation|Children|Comedy|Fantasy</td>\n",
       "      <td>114709</td>\n",
       "      <td>1</td>\n",
       "      <td>4.0</td>\n",
       "      <td>1</td>\n",
       "      <td>1995</td>\n",
       "    </tr>\n",
       "    <tr>\n",
       "      <th>1</th>\n",
       "      <td>Toy Story (1995)</td>\n",
       "      <td>Adventure|Animation|Children|Comedy|Fantasy</td>\n",
       "      <td>114709</td>\n",
       "      <td>5</td>\n",
       "      <td>4.0</td>\n",
       "      <td>1</td>\n",
       "      <td>1995</td>\n",
       "    </tr>\n",
       "    <tr>\n",
       "      <th>2</th>\n",
       "      <td>Toy Story (1995)</td>\n",
       "      <td>Adventure|Animation|Children|Comedy|Fantasy</td>\n",
       "      <td>114709</td>\n",
       "      <td>7</td>\n",
       "      <td>4.5</td>\n",
       "      <td>1</td>\n",
       "      <td>1995</td>\n",
       "    </tr>\n",
       "    <tr>\n",
       "      <th>3</th>\n",
       "      <td>Toy Story (1995)</td>\n",
       "      <td>Adventure|Animation|Children|Comedy|Fantasy</td>\n",
       "      <td>114709</td>\n",
       "      <td>15</td>\n",
       "      <td>2.5</td>\n",
       "      <td>1</td>\n",
       "      <td>1995</td>\n",
       "    </tr>\n",
       "    <tr>\n",
       "      <th>4</th>\n",
       "      <td>Toy Story (1995)</td>\n",
       "      <td>Adventure|Animation|Children|Comedy|Fantasy</td>\n",
       "      <td>114709</td>\n",
       "      <td>17</td>\n",
       "      <td>4.5</td>\n",
       "      <td>1</td>\n",
       "      <td>1995</td>\n",
       "    </tr>\n",
       "  </tbody>\n",
       "</table>\n",
       "</div>"
      ],
      "text/plain": [
       "              title                                       genres  imdbId  \\\n",
       "0  Toy Story (1995)  Adventure|Animation|Children|Comedy|Fantasy  114709   \n",
       "1  Toy Story (1995)  Adventure|Animation|Children|Comedy|Fantasy  114709   \n",
       "2  Toy Story (1995)  Adventure|Animation|Children|Comedy|Fantasy  114709   \n",
       "3  Toy Story (1995)  Adventure|Animation|Children|Comedy|Fantasy  114709   \n",
       "4  Toy Story (1995)  Adventure|Animation|Children|Comedy|Fantasy  114709   \n",
       "\n",
       "   userId  rating  bechdel_score  year  \n",
       "0       1     4.0              1  1995  \n",
       "1       5     4.0              1  1995  \n",
       "2       7     4.5              1  1995  \n",
       "3      15     2.5              1  1995  \n",
       "4      17     4.5              1  1995  "
      ]
     },
     "execution_count": 28,
     "metadata": {},
     "output_type": "execute_result"
    }
   ],
   "source": [
    "pattern = '\\((\\d{4})\\)'\n",
    "df['year'] = df.title.str.extract(pattern)\n",
    "df.head()"
   ]
  },
  {
   "cell_type": "markdown",
   "id": "a3793404-bf8c-4e32-a8a7-02c7d50df32e",
   "metadata": {},
   "source": [
    "#### Save to csv"
   ]
  },
  {
   "cell_type": "code",
   "execution_count": 29,
   "id": "f7c10083-1d23-4d57-a5cb-db39935c89b6",
   "metadata": {},
   "outputs": [],
   "source": [
    "#df.to_csv('../datasets/all.csv', index=False)"
   ]
  },
  {
   "cell_type": "markdown",
   "id": "94f87e27-990c-4e37-89df-5b352f199e93",
   "metadata": {},
   "source": [
    "#### 9742 movies 100836 ratings from 610 users, 9417 bechdel scores resulting in \n",
    "\n",
    "#### 4838 complete records and 82859 reviews"
   ]
  },
  {
   "cell_type": "code",
   "execution_count": null,
   "id": "31e4958d-09b3-446e-a08f-44095d939a76",
   "metadata": {},
   "outputs": [],
   "source": []
  }
 ],
 "metadata": {
  "kernelspec": {
   "display_name": "Python 3 (ipykernel)",
   "language": "python",
   "name": "python3"
  },
  "language_info": {
   "codemirror_mode": {
    "name": "ipython",
    "version": 3
   },
   "file_extension": ".py",
   "mimetype": "text/x-python",
   "name": "python",
   "nbconvert_exporter": "python",
   "pygments_lexer": "ipython3",
   "version": "3.9.7"
  }
 },
 "nbformat": 4,
 "nbformat_minor": 5
}
