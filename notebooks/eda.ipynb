{
 "cells": [
  {
   "cell_type": "code",
   "execution_count": 1,
   "id": "23bc2a49-1313-4bb1-ab5e-042206fa4573",
   "metadata": {},
   "outputs": [],
   "source": [
    "import pandas as pd\n",
    "import numpy as np\n",
    "import matplotlib.pyplot as plt\n",
    "import seaborn as sns"
   ]
  },
  {
   "cell_type": "code",
   "execution_count": 2,
   "id": "98d16ea1-732d-4ad3-a575-960db11b3718",
   "metadata": {},
   "outputs": [],
   "source": [
    "all = pd.read_csv('../datasets/all.csv')"
   ]
  },
  {
   "cell_type": "markdown",
   "id": "dd95a337-88d9-4dd1-adf4-bf19073e420c",
   "metadata": {},
   "source": [
    "### check for duplicates"
   ]
  },
  {
   "cell_type": "code",
   "execution_count": 3,
   "id": "465391bd-523b-4b2e-8a6d-58a125abb35f",
   "metadata": {},
   "outputs": [
    {
     "data": {
      "text/plain": [
       "31"
      ]
     },
     "execution_count": 3,
     "metadata": {},
     "output_type": "execute_result"
    }
   ],
   "source": [
    "all.duplicated().sum()"
   ]
  },
  {
   "cell_type": "markdown",
   "id": "eaf3154c-f39c-4b90-a85e-935c747ac52e",
   "metadata": {},
   "source": [
    "### dist of bechdel score"
   ]
  },
  {
   "cell_type": "code",
   "execution_count": 5,
   "id": "d531e84b-f51d-4dda-8870-bac9ccf728e7",
   "metadata": {},
   "outputs": [
    {
     "data": {
      "text/plain": [
       "<seaborn.axisgrid.FacetGrid at 0x7fa308364fa0>"
      ]
     },
     "execution_count": 5,
     "metadata": {},
     "output_type": "execute_result"
    },
    {
     "data": {
      "image/png": "[encoded data removed]",
      "text/plain": [
       "<Figure size 360x360 with 1 Axes>"
      ]
     },
     "metadata": {
      "needs_background": "light"
     },
     "output_type": "display_data"
    }
   ],
   "source": [
    "sns.displot(all, x=all['bechdel_score'])"
   ]
  },
  {
   "cell_type": "markdown",
   "id": "d21fee1f-a070-4f25-b57b-2cf61d50cdcc",
   "metadata": {},
   "source": [
    "### check layout of genres"
   ]
  },
  {
   "cell_type": "code",
   "execution_count": 4,
   "id": "fa737a23-4ab1-4c81-889b-f8a1ce2986b0",
   "metadata": {},
   "outputs": [
    {
     "data": {
      "text/plain": [
       "'Adventure|Animation|Children|Comedy|Fantasy'"
      ]
     },
     "execution_count": 4,
     "metadata": {},
     "output_type": "execute_result"
    }
   ],
   "source": [
    "all.iloc[0].genres"
   ]
  },
  {
   "cell_type": "markdown",
   "id": "2f5aacf6-3096-46b8-8349-72d6de023592",
   "metadata": {},
   "source": [
    "### dummy genres for viz"
   ]
  },
  {
   "cell_type": "code",
   "execution_count": 6,
   "id": "a867a972-8e32-4b88-b0f2-53498cb65f1d",
   "metadata": {},
   "outputs": [],
   "source": [
    "dummies = all['genres'].str.get_dummies(sep='|')\n",
    "final = pd.concat([all, dummies], axis=1)"
   ]
  },
  {
   "cell_type": "code",
   "execution_count": 7,
   "id": "60b99075-a5ac-422b-959e-805749b1601d",
   "metadata": {},
   "outputs": [
    {
     "data": {
      "text/html": [
       "<div>\n",
       "<style scoped>\n",
       "    .dataframe tbody tr th:only-of-type {\n",
       "        vertical-align: middle;\n",
       "    }\n",
       "\n",
       "    .dataframe tbody tr th {\n",
       "        vertical-align: top;\n",
       "    }\n",
       "\n",
       "    .dataframe thead th {\n",
       "        text-align: right;\n",
       "    }\n",
       "</style>\n",
       "<table border=\"1\" class=\"dataframe\">\n",
       "  <thead>\n",
       "    <tr style=\"text-align: right;\">\n",
       "      <th></th>\n",
       "      <th>title</th>\n",
       "      <th>genres</th>\n",
       "      <th>imdbId</th>\n",
       "      <th>userId</th>\n",
       "      <th>rating</th>\n",
       "      <th>bechdel_score</th>\n",
       "      <th>year</th>\n",
       "      <th>(no genres listed)</th>\n",
       "      <th>Action</th>\n",
       "      <th>Adventure</th>\n",
       "      <th>...</th>\n",
       "      <th>Film-Noir</th>\n",
       "      <th>Horror</th>\n",
       "      <th>IMAX</th>\n",
       "      <th>Musical</th>\n",
       "      <th>Mystery</th>\n",
       "      <th>Romance</th>\n",
       "      <th>Sci-Fi</th>\n",
       "      <th>Thriller</th>\n",
       "      <th>War</th>\n",
       "      <th>Western</th>\n",
       "    </tr>\n",
       "  </thead>\n",
       "  <tbody>\n",
       "    <tr>\n",
       "      <th>0</th>\n",
       "      <td>Toy Story (1995)</td>\n",
       "      <td>Adventure|Animation|Children|Comedy|Fantasy</td>\n",
       "      <td>114709</td>\n",
       "      <td>1</td>\n",
       "      <td>4.0</td>\n",
       "      <td>1</td>\n",
       "      <td>1995.0</td>\n",
       "      <td>0</td>\n",
       "      <td>0</td>\n",
       "      <td>1</td>\n",
       "      <td>...</td>\n",
       "      <td>0</td>\n",
       "      <td>0</td>\n",
       "      <td>0</td>\n",
       "      <td>0</td>\n",
       "      <td>0</td>\n",
       "      <td>0</td>\n",
       "      <td>0</td>\n",
       "      <td>0</td>\n",
       "      <td>0</td>\n",
       "      <td>0</td>\n",
       "    </tr>\n",
       "    <tr>\n",
       "      <th>1</th>\n",
       "      <td>Toy Story (1995)</td>\n",
       "      <td>Adventure|Animation|Children|Comedy|Fantasy</td>\n",
       "      <td>114709</td>\n",
       "      <td>5</td>\n",
       "      <td>4.0</td>\n",
       "      <td>1</td>\n",
       "      <td>1995.0</td>\n",
       "      <td>0</td>\n",
       "      <td>0</td>\n",
       "      <td>1</td>\n",
       "      <td>...</td>\n",
       "      <td>0</td>\n",
       "      <td>0</td>\n",
       "      <td>0</td>\n",
       "      <td>0</td>\n",
       "      <td>0</td>\n",
       "      <td>0</td>\n",
       "      <td>0</td>\n",
       "      <td>0</td>\n",
       "      <td>0</td>\n",
       "      <td>0</td>\n",
       "    </tr>\n",
       "    <tr>\n",
       "      <th>2</th>\n",
       "      <td>Toy Story (1995)</td>\n",
       "      <td>Adventure|Animation|Children|Comedy|Fantasy</td>\n",
       "      <td>114709</td>\n",
       "      <td>7</td>\n",
       "      <td>4.5</td>\n",
       "      <td>1</td>\n",
       "      <td>1995.0</td>\n",
       "      <td>0</td>\n",
       "      <td>0</td>\n",
       "      <td>1</td>\n",
       "      <td>...</td>\n",
       "      <td>0</td>\n",
       "      <td>0</td>\n",
       "      <td>0</td>\n",
       "      <td>0</td>\n",
       "      <td>0</td>\n",
       "      <td>0</td>\n",
       "      <td>0</td>\n",
       "      <td>0</td>\n",
       "      <td>0</td>\n",
       "      <td>0</td>\n",
       "    </tr>\n",
       "    <tr>\n",
       "      <th>3</th>\n",
       "      <td>Toy Story (1995)</td>\n",
       "      <td>Adventure|Animation|Children|Comedy|Fantasy</td>\n",
       "      <td>114709</td>\n",
       "      <td>15</td>\n",
       "      <td>2.5</td>\n",
       "      <td>1</td>\n",
       "      <td>1995.0</td>\n",
       "      <td>0</td>\n",
       "      <td>0</td>\n",
       "      <td>1</td>\n",
       "      <td>...</td>\n",
       "      <td>0</td>\n",
       "      <td>0</td>\n",
       "      <td>0</td>\n",
       "      <td>0</td>\n",
       "      <td>0</td>\n",
       "      <td>0</td>\n",
       "      <td>0</td>\n",
       "      <td>0</td>\n",
       "      <td>0</td>\n",
       "      <td>0</td>\n",
       "    </tr>\n",
       "    <tr>\n",
       "      <th>4</th>\n",
       "      <td>Toy Story (1995)</td>\n",
       "      <td>Adventure|Animation|Children|Comedy|Fantasy</td>\n",
       "      <td>114709</td>\n",
       "      <td>17</td>\n",
       "      <td>4.5</td>\n",
       "      <td>1</td>\n",
       "      <td>1995.0</td>\n",
       "      <td>0</td>\n",
       "      <td>0</td>\n",
       "      <td>1</td>\n",
       "      <td>...</td>\n",
       "      <td>0</td>\n",
       "      <td>0</td>\n",
       "      <td>0</td>\n",
       "      <td>0</td>\n",
       "      <td>0</td>\n",
       "      <td>0</td>\n",
       "      <td>0</td>\n",
       "      <td>0</td>\n",
       "      <td>0</td>\n",
       "      <td>0</td>\n",
       "    </tr>\n",
       "  </tbody>\n",
       "</table>\n",
       "<p>5 rows × 27 columns</p>\n",
       "</div>"
      ],
      "text/plain": [
       "              title                                       genres  imdbId  \\\n",
       "0  Toy Story (1995)  Adventure|Animation|Children|Comedy|Fantasy  114709   \n",
       "1  Toy Story (1995)  Adventure|Animation|Children|Comedy|Fantasy  114709   \n",
       "2  Toy Story (1995)  Adventure|Animation|Children|Comedy|Fantasy  114709   \n",
       "3  Toy Story (1995)  Adventure|Animation|Children|Comedy|Fantasy  114709   \n",
       "4  Toy Story (1995)  Adventure|Animation|Children|Comedy|Fantasy  114709   \n",
       "\n",
       "   userId  rating  bechdel_score    year  (no genres listed)  Action  \\\n",
       "0       1     4.0              1  1995.0                   0       0   \n",
       "1       5     4.0              1  1995.0                   0       0   \n",
       "2       7     4.5              1  1995.0                   0       0   \n",
       "3      15     2.5              1  1995.0                   0       0   \n",
       "4      17     4.5              1  1995.0                   0       0   \n",
       "\n",
       "   Adventure  ...  Film-Noir  Horror  IMAX  Musical  Mystery  Romance  Sci-Fi  \\\n",
       "0          1  ...          0       0     0        0        0        0       0   \n",
       "1          1  ...          0       0     0        0        0        0       0   \n",
       "2          1  ...          0       0     0        0        0        0       0   \n",
       "3          1  ...          0       0     0        0        0        0       0   \n",
       "4          1  ...          0       0     0        0        0        0       0   \n",
       "\n",
       "   Thriller  War  Western  \n",
       "0         0    0        0  \n",
       "1         0    0        0  \n",
       "2         0    0        0  \n",
       "3         0    0        0  \n",
       "4         0    0        0  \n",
       "\n",
       "[5 rows x 27 columns]"
      ]
     },
     "execution_count": 7,
     "metadata": {},
     "output_type": "execute_result"
    }
   ],
   "source": [
    "final.head()"
   ]
  },
  {
   "cell_type": "markdown",
   "id": "2058df56-9f60-4e88-a15c-5c8c719230ff",
   "metadata": {},
   "source": [
    "### check for null"
   ]
  },
  {
   "cell_type": "code",
   "execution_count": 8,
   "id": "cf8dd38d-ba1f-41f3-9c10-6206746ae17d",
   "metadata": {},
   "outputs": [
    {
     "data": {
      "text/plain": [
       "title            0\n",
       "genres           0\n",
       "imdbId           0\n",
       "userId           0\n",
       "rating           0\n",
       "bechdel_score    0\n",
       "year             7\n",
       "dtype: int64"
      ]
     },
     "execution_count": 8,
     "metadata": {},
     "output_type": "execute_result"
    }
   ],
   "source": [
    "all.isna().sum()"
   ]
  },
  {
   "cell_type": "markdown",
   "id": "ff9bb39b-2fb1-45d5-a026-3e0f9eefa68c",
   "metadata": {},
   "source": [
    "### fill null"
   ]
  },
  {
   "cell_type": "code",
   "execution_count": 9,
   "id": "82bae9c8-bc12-4b4c-9cc3-e96902eb23dc",
   "metadata": {},
   "outputs": [],
   "source": [
    "all['year'].fillna(0, inplace=True)"
   ]
  },
  {
   "cell_type": "code",
   "execution_count": 10,
   "id": "d04f9cbe-f911-4a38-bed2-4e19d9b8a76c",
   "metadata": {},
   "outputs": [
    {
     "data": {
      "text/plain": [
       "title            0\n",
       "genres           0\n",
       "imdbId           0\n",
       "userId           0\n",
       "rating           0\n",
       "bechdel_score    0\n",
       "year             0\n",
       "dtype: int64"
      ]
     },
     "execution_count": 10,
     "metadata": {},
     "output_type": "execute_result"
    }
   ],
   "source": [
    "all.isna().sum()"
   ]
  },
  {
   "cell_type": "markdown",
   "id": "dd859837-efb6-49ca-a759-d48b67c35b40",
   "metadata": {},
   "source": [
    "### save dummied genres to separate csv to avoid issues with models"
   ]
  },
  {
   "cell_type": "code",
   "execution_count": 11,
   "id": "6db2e880-e85f-42dd-b7a8-3b287adf7143",
   "metadata": {},
   "outputs": [],
   "source": [
    "final.to_csv('../datasets/all_genres.csv', index=False)"
   ]
  }
 ],
 "metadata": {
  "kernelspec": {
   "display_name": "Python 3 (ipykernel)",
   "language": "python",
   "name": "python3"
  },
  "language_info": {
   "codemirror_mode": {
    "name": "ipython",
    "version": 3
   },
   "file_extension": ".py",
   "mimetype": "text/x-python",
   "name": "python",
   "nbconvert_exporter": "python",
   "pygments_lexer": "ipython3",
   "version": "3.9.7"
  }
 },
 "nbformat": 4,
 "nbformat_minor": 5
}
