{
 "cells": [
  {
   "cell_type": "code",
   "execution_count": 1,
   "id": "69f34418-573f-42be-8e6a-9e3179ff9bb4",
   "metadata": {},
   "outputs": [],
   "source": [
    "import pandas as pd\n",
    "import numpy as np\n",
    "import requests\n",
    "import time\n",
    "import json"
   ]
  },
  {
   "cell_type": "markdown",
   "id": "127d1af8-5823-40fe-aa1d-00d0f44bc64f",
   "metadata": {
    "tags": []
   },
   "source": [
    "### getting data from bechdeltest.com"
   ]
  },
  {
   "cell_type": "code",
   "execution_count": 2,
   "id": "8b290171-6f16-4362-ab5e-fe7e0967e27f",
   "metadata": {},
   "outputs": [],
   "source": [
    "url = 'https://bechdeltest.com/api/v1/getMoviesByTitle'"
   ]
  },
  {
   "cell_type": "code",
   "execution_count": 3,
   "id": "55b29e3b-1947-453a-af8e-92fa18cd1f3d",
   "metadata": {},
   "outputs": [],
   "source": [
    "#set before to be current time\n",
    "before = int(time.time())\n",
    "\n",
    "#create params: before, subreddit, size\n",
    "params = {\n",
    "'size': 100,\n",
    "'before': before,\n",
    "}"
   ]
  },
  {
   "cell_type": "code",
   "execution_count": 4,
   "id": "4dee44f1-f267-4d02-ac0d-b17e73ca8f8c",
   "metadata": {
    "tags": []
   },
   "outputs": [],
   "source": [
    "res = requests.get(url)"
   ]
  },
  {
   "cell_type": "code",
   "execution_count": 5,
   "id": "33ced40c-bb7d-40a4-9adc-908104cc7f89",
   "metadata": {},
   "outputs": [
    {
     "data": {
      "text/plain": [
       "200"
      ]
     },
     "execution_count": 5,
     "metadata": {},
     "output_type": "execute_result"
    }
   ],
   "source": [
    "res.status_code"
   ]
  },
  {
   "cell_type": "code",
   "execution_count": 6,
   "id": "16d04dbf-9f67-4870-bfb7-40b438976e75",
   "metadata": {},
   "outputs": [],
   "source": [
    "df = pd.DataFrame(res.json())"
   ]
  },
  {
   "cell_type": "code",
   "execution_count": 7,
   "id": "7a91864b-ad54-453b-a485-772d56589de9",
   "metadata": {},
   "outputs": [
    {
     "data": {
      "text/html": [
       "<div>\n",
       "<style scoped>\n",
       "    .dataframe tbody tr th:only-of-type {\n",
       "        vertical-align: middle;\n",
       "    }\n",
       "\n",
       "    .dataframe tbody tr th {\n",
       "        vertical-align: top;\n",
       "    }\n",
       "\n",
       "    .dataframe thead th {\n",
       "        text-align: right;\n",
       "    }\n",
       "</style>\n",
       "<table border=\"1\" class=\"dataframe\">\n",
       "  <thead>\n",
       "    <tr style=\"text-align: right;\">\n",
       "      <th></th>\n",
       "      <th>visible</th>\n",
       "      <th>date</th>\n",
       "      <th>title</th>\n",
       "      <th>rating</th>\n",
       "      <th>year</th>\n",
       "      <th>imdbid</th>\n",
       "      <th>submitterid</th>\n",
       "      <th>dubious</th>\n",
       "      <th>id</th>\n",
       "    </tr>\n",
       "  </thead>\n",
       "  <tbody>\n",
       "    <tr>\n",
       "      <th>0</th>\n",
       "      <td>1</td>\n",
       "      <td>2022-01-13 14:47:49</td>\n",
       "      <td>355, The</td>\n",
       "      <td>3</td>\n",
       "      <td>2022</td>\n",
       "      <td>8356942</td>\n",
       "      <td>19837</td>\n",
       "      <td>0</td>\n",
       "      <td>10195</td>\n",
       "    </tr>\n",
       "    <tr>\n",
       "      <th>1</th>\n",
       "      <td>1</td>\n",
       "      <td>2021-09-20 02:39:47</td>\n",
       "      <td>#Nofilter</td>\n",
       "      <td>0</td>\n",
       "      <td>2021</td>\n",
       "      <td>14843560</td>\n",
       "      <td>19562</td>\n",
       "      <td>0</td>\n",
       "      <td>10065</td>\n",
       "    </tr>\n",
       "    <tr>\n",
       "      <th>2</th>\n",
       "      <td>1</td>\n",
       "      <td>2022-01-14 19:45:08</td>\n",
       "      <td>13 Minutes</td>\n",
       "      <td>3</td>\n",
       "      <td>2021</td>\n",
       "      <td>9274670</td>\n",
       "      <td>19841</td>\n",
       "      <td>0</td>\n",
       "      <td>10196</td>\n",
       "    </tr>\n",
       "    <tr>\n",
       "      <th>3</th>\n",
       "      <td>1</td>\n",
       "      <td>2022-01-03 22:38:08</td>\n",
       "      <td>A Classic Horror Story</td>\n",
       "      <td>3</td>\n",
       "      <td>2021</td>\n",
       "      <td>12877640</td>\n",
       "      <td>19802</td>\n",
       "      <td>1</td>\n",
       "      <td>10177</td>\n",
       "    </tr>\n",
       "    <tr>\n",
       "      <th>4</th>\n",
       "      <td>1</td>\n",
       "      <td>2021-09-13 02:56:54</td>\n",
       "      <td>Afterlife of the Party</td>\n",
       "      <td>3</td>\n",
       "      <td>2021</td>\n",
       "      <td>11742798</td>\n",
       "      <td>19538</td>\n",
       "      <td>0</td>\n",
       "      <td>10046</td>\n",
       "    </tr>\n",
       "  </tbody>\n",
       "</table>\n",
       "</div>"
      ],
      "text/plain": [
       "  visible                 date                   title  rating  year  \\\n",
       "0       1  2022-01-13 14:47:49                355, The       3  2022   \n",
       "1       1  2021-09-20 02:39:47               #Nofilter       0  2021   \n",
       "2       1  2022-01-14 19:45:08              13 Minutes       3  2021   \n",
       "3       1  2022-01-03 22:38:08  A Classic Horror Story       3  2021   \n",
       "4       1  2021-09-13 02:56:54  Afterlife of the Party       3  2021   \n",
       "\n",
       "     imdbid  submitterid dubious     id  \n",
       "0   8356942        19837       0  10195  \n",
       "1  14843560        19562       0  10065  \n",
       "2   9274670        19841       0  10196  \n",
       "3  12877640        19802       1  10177  \n",
       "4  11742798        19538       0  10046  "
      ]
     },
     "execution_count": 7,
     "metadata": {},
     "output_type": "execute_result"
    }
   ],
   "source": [
    "df.head()"
   ]
  },
  {
   "cell_type": "code",
   "execution_count": 8,
   "id": "2f2088e2-ead6-4c77-9b06-8cc8ca623cd7",
   "metadata": {},
   "outputs": [
    {
     "data": {
      "text/plain": [
       "(9417, 9)"
      ]
     },
     "execution_count": 8,
     "metadata": {},
     "output_type": "execute_result"
    }
   ],
   "source": [
    "df.shape"
   ]
  },
  {
   "cell_type": "markdown",
   "id": "44b2aff0-3a0c-4a51-8cea-86bde3c15e13",
   "metadata": {},
   "source": [
    "### Save to csv"
   ]
  },
  {
   "cell_type": "code",
   "execution_count": 9,
   "id": "8deeeb36-d7fc-472d-9860-cc0482af9859",
   "metadata": {},
   "outputs": [],
   "source": [
    "df.to_csv('./datasets/bechdel.csv')"
   ]
  },
  {
   "cell_type": "code",
   "execution_count": null,
   "id": "5962e4c8-1202-46cf-be5d-08070431d3f8",
   "metadata": {},
   "outputs": [],
   "source": []
  }
 ],
 "metadata": {
  "kernelspec": {
   "display_name": "Python 3 (ipykernel)",
   "language": "python",
   "name": "python3"
  },
  "language_info": {
   "codemirror_mode": {
    "name": "ipython",
    "version": 3
   },
   "file_extension": ".py",
   "mimetype": "text/x-python",
   "name": "python",
   "nbconvert_exporter": "python",
   "pygments_lexer": "ipython3",
   "version": "3.9.7"
  }
 },
 "nbformat": 4,
 "nbformat_minor": 5
}
